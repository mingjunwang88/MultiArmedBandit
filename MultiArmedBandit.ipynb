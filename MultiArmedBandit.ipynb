{
 "cells": [
  {
   "cell_type": "code",
   "execution_count": 2,
   "metadata": {},
   "outputs": [],
   "source": [
    "import numpy as np\n",
    "import matplotlib.pyplot as plt\n",
    "from numpy.random import beta\n",
    "\n",
    "class MAB():\n",
    "    def __init__(self, n_arms, eps):\n",
    "        self.Q = np.zeros(n_arms)   #Initial the action values\n",
    "        self.N = np.zeros(n_arms)   #Initital number of each action\n",
    "        self.n_arms = n_arms        \n",
    "        self.eps = eps\n",
    "        self.rewards = []\n",
    "        self.iters = 0   # Keep the total count on the steps\n",
    "        \n",
    "    def selectAct(self):\n",
    "        #Select the action acording the current history. This is the core of each alg\n",
    "        pass\n",
    "        \n",
    "    def bandit(self, a):\n",
    "        #Return the a random value given the action\n",
    "        return np.random.normal(loc=3*a)\n",
    "        \n",
    "    def update(self, iters):\n",
    "        #Perform the update and keep all the average rewards at each step\n",
    "        total_rewards = 0\n",
    "        while True:   \n",
    "            self.iters+=1\n",
    "            a = self.selectAct()\n",
    "            r = self.bandit(a)\n",
    "            total_rewards +=r\n",
    "            avg_reward= 1.0 * total_rewards/self.iters\n",
    "            self.rewards.append(avg_reward)\n",
    "                        \n",
    "            ## Need to update the action value/and iteration number\n",
    "            self.N[a] +=1\n",
    "            self.Q[a] = self.Q[a] + 1.0 /self.N[a] * (r - self.Q[a])  \n",
    "            if self.iters > iters:\n",
    "                return 0\n",
    "    \n",
    "n = 10000"
   ]
  },
  {
   "cell_type": "markdown",
   "metadata": {},
   "source": [
    "### 1: e-Greedy Algorithm:"
   ]
  },
  {
   "cell_type": "code",
   "execution_count": 159,
   "metadata": {
    "scrolled": false
   },
   "outputs": [
    {
     "data": {
      "text/plain": [
       "[]"
      ]
     },
     "execution_count": 159,
     "metadata": {},
     "output_type": "execute_result"
    },
    {
     "data": {
      "image/png": "[encoded data removed]",
      "text/plain": [
       "<Figure size 432x288 with 1 Axes>"
      ]
     },
     "metadata": {
      "needs_background": "light"
     },
     "output_type": "display_data"
    }
   ],
   "source": [
    "class SimpleAlgs(MAB):\n",
    "    def __init__(self, n_arms, eps):\n",
    "        super().__init__(n_arms, eps)  # Will inheriate all the methods and properties\n",
    "        \n",
    "    def selectAct(self):\n",
    "        Ps = []\n",
    "        As = []\n",
    "\n",
    "        #Select the action according the e-greedy policy\n",
    "        a_max = np.argmax(self.Q)           \n",
    "        p_max=1.0 - self.eps\n",
    "            \n",
    "        Ps.append(p_max)\n",
    "        As.append(a_max)\n",
    "   \n",
    "        for i in range(self.n_arms):\n",
    "            As.append(i)\n",
    "            Ps.append(1.0*self.eps/self.n_arms)\n",
    "        \n",
    "        a = np.random.choice(As, p=Ps)\n",
    "        return a\n",
    "    \n",
    "    def update(self, iters):\n",
    "        #Perform the update and keep all the average rewards at each step\n",
    "        total_rewards = 0\n",
    "        while True:   \n",
    "            self.iters+=1\n",
    "            a = self.selectAct()\n",
    "            r = self.bandit(a)\n",
    "            total_rewards +=r\n",
    "            avg_reward= 1.0 * total_rewards/self.iters\n",
    "            self.rewards.append(avg_reward)\n",
    "                        \n",
    "            ## Need to update the action value/and iteration number\n",
    "            self.N[a] +=1\n",
    "            self.Q[a] = self.Q[a] + 1.0 /self.N[a] * (r - self.Q[a])  \n",
    "            if self.iters > iters:\n",
    "                return 0\n",
    "        \n",
    "\n",
    "app_Egreedy1 = SimpleAlgs(10, 0.1)\n",
    "app_Egreedy1.update(n)  \n",
    "\n",
    "app_Egreedy2 = SimpleAlgs(10, 0.05)\n",
    "app_Egreedy2.update(n)  \n",
    "\n",
    "app_Egreedy3 = SimpleAlgs(10, 0.01)\n",
    "app_Egreedy3.update(n) \n",
    "\n",
    "app_greedy = SimpleAlgs(10, 0.0)\n",
    "app_greedy.update(n) \n",
    "\n",
    "plt.plot(app1.rewards,'g', label= 'e = 0.1')\n",
    "plt.plot(app2.rewards, 'r', label= 'e = 0.05')\n",
    "plt.plot(app3.rewards, 'b', label= 'e = 0.03')\n",
    "plt.plot(app4.rewards, 'c', label= 'e = 0.0')\n",
    "plt.plot(lagend=True)"
   ]
  },
  {
   "cell_type": "markdown",
   "metadata": {},
   "source": [
    "### 2: Upper Confidence Bound\n",
    "\n",
    "\n",
    "The formula is on page p27(Sutton, Barto)\n",
    "a(t) = argmax(Q(a) + c*sqrt(ln(t)/N(a)))"
   ]
  },
  {
   "cell_type": "code",
   "execution_count": 162,
   "metadata": {},
   "outputs": [
    {
     "data": {
      "text/plain": [
       "[]"
      ]
     },
     "execution_count": 162,
     "metadata": {},
     "output_type": "execute_result"
    },
    {
     "data": {
      "image/png": "[encoded data removed]",
      "text/plain": [
       "<Figure size 432x288 with 1 Axes>"
      ]
     },
     "metadata": {
      "needs_background": "light"
     },
     "output_type": "display_data"
    }
   ],
   "source": [
    "class UCB(MAB):  #Upper Confidence Bound\n",
    "    def __init__(self, n_arms, eps, c):\n",
    "        super().__init__(n_arms, eps)  # Will inheriate all the methods and properties\n",
    "        self.c = c    \n",
    "        \n",
    "    def selectAct(self):\n",
    "        # This is a direct action select from the ation preference\n",
    "        #Hold the preferenc of each action\n",
    "        A=np.zeros(self.n_arms)\n",
    "        \n",
    "        for a in range(self.n_arms):\n",
    "            if self.N[a] == 0:\n",
    "                return a\n",
    "            else:\n",
    "                A[a] = self.Q[a] + 1.0* self.c * np.sqrt(np.log(1.0*self.iters/self.N[a])) \n",
    "        return np.argmax(A)\n",
    "    \n",
    "    def update(self, iters):\n",
    "        #Perform the update and keep all the average rewards at each step\n",
    "        total_rewards = 0\n",
    "        while True:   \n",
    "            self.iters+=1\n",
    "            a = self.selectAct()\n",
    "            r = self.bandit(a)\n",
    "            total_rewards +=r\n",
    "            avg_reward= 1.0 * total_rewards/self.iters\n",
    "            self.rewards.append(avg_reward)\n",
    "                        \n",
    "            ## Need to update the action value/and iteration number\n",
    "            self.N[a] +=1\n",
    "            self.Q[a] = self.Q[a] + 1.0 /self.N[a] * (r - self.Q[a])  \n",
    "            if self.iters > iters:\n",
    "                return 0\n",
    "        \n",
    "app_ucb1 = UCB(10, 0.1,1)\n",
    "app_ucb1.update(n)  \n",
    "\n",
    "plt.plot(app_ucb1.rewards,'g', label= 'e = 0.1')\n",
    "#plt.plot(app1.rewards,'g', label= 'e = 0.1')\n",
    "#plt.plot(app2.rewards, 'r', label= 'e = 0.05')\n",
    "#plt.plot(app3.rewards, 'b', label= 'e = 0.03')\n",
    "#plt.plot(app4.rewards, 'c', label= 'e = 0.0')\n",
    "plt.plot()\n"
   ]
  },
  {
   "cell_type": "code",
   "execution_count": null,
   "metadata": {},
   "outputs": [],
   "source": []
  },
  {
   "cell_type": "markdown",
   "metadata": {},
   "source": [
    "### 3: Gradient Bandit Algs\n",
    "\n",
    "\n",
    "Defination:\n",
    "\n",
    "    pi(a/t): Probability of taking action a at time t\n",
    "\n",
    "The formula is on page p29(Sutton, Barto)"
   ]
  },
  {
   "cell_type": "code",
   "execution_count": 163,
   "metadata": {},
   "outputs": [
    {
     "data": {
      "text/plain": [
       "[]"
      ]
     },
     "execution_count": 163,
     "metadata": {},
     "output_type": "execute_result"
    },
    {
     "data": {
      "image/png": "[encoded data removed]",
      "text/plain": [
       "<Figure size 432x288 with 1 Axes>"
      ]
     },
     "metadata": {
      "needs_background": "light"
     },
     "output_type": "display_data"
    }
   ],
   "source": [
    "class GBA(MAB): \n",
    "    #Gradient Bandit Alg\n",
    "    def __init__(self, n_arms, eps, alpha):\n",
    "        super().__init__(n_arms, eps)  # Will inheriate all the methods and properties\n",
    "        self.h = np.zeros(self.n_arms)  #initial all the preferences\n",
    "        self.p = np.zeros(self.n_arms)  \n",
    "        self.alpha = alpha\n",
    "                     \n",
    "    def selectAct(self):\n",
    "        denominator = 0\n",
    "        for a in range(self.n_arms):\n",
    "            denominator +=np.exp(self.h[a])\n",
    "        \n",
    "        for a in range(self.n_arms):\n",
    "            self.p[a] = 1.0 * np.exp(self.h[a]) / denominator\n",
    "        \n",
    "        a = np.random.choice(self.n_arms, p=self.p)\n",
    "        return a\n",
    "    \n",
    "    def update(self, iters):\n",
    "        #Perform the update and keep all the average rewards at each step\n",
    "        total_rewards = 0\n",
    "        while True:   \n",
    "            self.iters+=1\n",
    "            a = self.selectAct()\n",
    "            r = self.bandit(a)\n",
    "            total_rewards +=r\n",
    "            avg_reward= 1.0 * total_rewards/self.iters\n",
    "            self.rewards.append(avg_reward)\n",
    "                        \n",
    "            ## Need to update the preference self.h\n",
    "            for i in range(self.n_arms):\n",
    "                if i ==a:\n",
    "                    self.h[i] = self.h[i] + self.alpha*(r - avg_reward) * (1.0 - self.p[i])\n",
    "                else:\n",
    "                    self.h[i] = self.h[i] - self.alpha*(r-avg_reward) * self.p[i]\n",
    "            if self.iters > iters:\n",
    "                return 0\n",
    "app_gba1 = GBA(10,1,0.1)\n",
    "app_gba1.update(n)  \n",
    "\n",
    "plt.plot(app_Egreedy1.rewards,'g', label= 'e = 0.1')\n",
    "plt.plot(app_gba1.rewards,'c', label= 'e = 0.1')\n",
    "plt.plot(app_ucb1.rewards,'r', label= 'e = 0.1')\n",
    "plt.plot()"
   ]
  },
  {
   "cell_type": "markdown",
   "metadata": {},
   "source": [
    "### 4: Thompson Sampling "
   ]
  },
  {
   "cell_type": "code",
   "execution_count": 80,
   "metadata": {},
   "outputs": [
    {
     "data": {
      "text/plain": [
       "[]"
      ]
     },
     "execution_count": 80,
     "metadata": {},
     "output_type": "execute_result"
    },
    {
     "data": {
      "image/png": "[encoded data removed]",
      "text/plain": [
       "<Figure size 432x288 with 1 Axes>"
      ]
     },
     "metadata": {
      "needs_background": "light"
     },
     "output_type": "display_data"
    }
   ],
   "source": [
    "class ThompsonSampling(MAB): \n",
    "    def __init__(self, n_arms, eps):\n",
    "        super().__init__(n_arms, eps)  # Will inheriate all the methods and properties\n",
    "        \n",
    "        #Initial the alphas and betas to one assuming a uniform distrbution from begining. \n",
    "        self.As=np.ones(n_arms)\n",
    "        self.Bs = np.ones(n_arms)\n",
    "        \n",
    "    def selectAct(self):\n",
    "        ## take a random sample for each arm and select arm with the highest rewards\n",
    "        samps = np.zeros(self.n_arms)\n",
    "        for i in range(self.n_arms):\n",
    "            samps[i] = np.random.beta(self.As[i], self.Bs[i])\n",
    "        \n",
    "        return np.argmax(samps)\n",
    "        \n",
    "    def bandit(self, a):\n",
    "        #Return the a random value given the action\n",
    "        #return np.random.normal(loc=3*a)\n",
    "        \n",
    "        #Only work with Bernoulli right now.\n",
    "        return np.random.binomial(1,0.25*a+0.11) \n",
    "        \n",
    "    def update(self, iters):\n",
    "        #Perform the update and keep all the average rewards at each step\n",
    "        total_rewards = 0\n",
    "        while True:   \n",
    "            self.iters+=1\n",
    "            a = self.selectAct()\n",
    "            r = self.bandit(a)\n",
    "            total_rewards +=r\n",
    "            avg_reward= 1.0 * total_rewards/self.iters\n",
    "            self.rewards.append(avg_reward)\n",
    "                        \n",
    "            ## Need to update the action value/and iteration number\n",
    "            if r == 1:\n",
    "                self.As[a]+=1\n",
    "            else:\n",
    "                self.Bs[a]+=1\n",
    "            if self.iters > iters:\n",
    "                return 0\n",
    "app_TS = ThompsonSampling(3,0.1)\n",
    "app_TS.update(3000)  \n",
    "\n",
    "plt.plot(app_TS.rewards,'g', label= 'e = 0.1')\n",
    "plt.plot()"
   ]
  },
  {
   "cell_type": "markdown",
   "metadata": {},
   "source": [
    "### 5: Context Bandit\n",
    "\n",
    "\n",
    "It might need to put Update and select-action together since the action value is the function of the user/item context"
   ]
  },
  {
   "cell_type": "code",
   "execution_count": null,
   "metadata": {},
   "outputs": [],
   "source": []
  },
  {
   "cell_type": "code",
   "execution_count": null,
   "metadata": {},
   "outputs": [],
   "source": []
  },
  {
   "cell_type": "code",
   "execution_count": null,
   "metadata": {},
   "outputs": [],
   "source": []
  },
  {
   "cell_type": "code",
   "execution_count": 7,
   "metadata": {},
   "outputs": [
    {
     "name": "stdout",
     "output_type": "stream",
     "text": [
      "1\n",
      "1\n",
      "1\n",
      "1\n",
      "1\n",
      "1\n",
      "1\n",
      "1\n",
      "1\n",
      "0\n"
     ]
    }
   ],
   "source": [
    "for i in range(10):\n",
    "    print (np.random.binomial(1, 0.9))"
   ]
  },
  {
   "cell_type": "code",
   "execution_count": null,
   "metadata": {},
   "outputs": [],
   "source": []
  }
 ],
 "metadata": {
  "kernelspec": {
   "display_name": "Python 3",
   "language": "python",
   "name": "python3"
  },
  "language_info": {
   "codemirror_mode": {
    "name": "ipython",
    "version": 3
   },
   "file_extension": ".py",
   "mimetype": "text/x-python",
   "name": "python",
   "nbconvert_exporter": "python",
   "pygments_lexer": "ipython3",
   "version": "3.7.3"
  }
 },
 "nbformat": 4,
 "nbformat_minor": 2
}
